{
 "cells": [
  {
   "cell_type": "code",
   "execution_count": 1,
   "metadata": {},
   "outputs": [],
   "source": [
    "from math import pi\n",
    "import numpy as np\n",
    "\n",
    "\n",
    "def f1(x):\n",
    "    x1 = x[0]\n",
    "    if x1>pi or x1<-pi:\n",
    "        x1 = 1000000*abs(x1)\n",
    "    return x1\n",
    "\n",
    "def f2(x):\n",
    "    x1, x2, x3 = x[0], x[1], x[2] \n",
    "    if x1>pi or x1<-pi or x2>5 or x2<-5 or x3>5 or x3<-5:\n",
    "        return 100000*(1-(1/(1*pi*pi))*(abs(x[0])+pi)**2+abs(abs(x[1])-5*np.cos(abs(x[0])))**(1/3)+abs(abs(x[2])-5*np.sin(abs(x[0])))**(1/3))\n",
    "    else:\n",
    "        return 1-(1/(1*pi*pi))*(x[0]+pi)**2+abs(x[1]-5*np.cos(x[0]))**(1/3)+abs(x[2]-5*np.sin(x[0]))**(1/3)\n"
   ]
  },
  {
   "cell_type": "code",
   "execution_count": 2,
   "metadata": {},
   "outputs": [],
   "source": [
    "x1 = np.arange(-pi, pi, 0.1)\n",
    "x2 = np.arange(-5, 5, 0.1)\n",
    "x3 = np.arange(-5, 5, 0.1)"
   ]
  },
  {
   "cell_type": "code",
   "execution_count": 3,
   "metadata": {},
   "outputs": [],
   "source": [
    "dx = np.arange(-10, 10, 1)\n",
    "w1 = 2\n",
    "w2 = 1"
   ]
  },
  {
   "cell_type": "code",
   "execution_count": 4,
   "metadata": {},
   "outputs": [],
   "source": [
    "def misfit(x):\n",
    "    mis1 = f1(x)\n",
    "    mis2 = f2(x)\n",
    "    return(w1*mis1+w2*mis2)"
   ]
  },
  {
   "cell_type": "code",
   "execution_count": 5,
   "metadata": {},
   "outputs": [
    {
     "data": {
      "text/plain": [
       "array([-1.73664234,  0.33728092, -0.27051394])"
      ]
     },
     "execution_count": 5,
     "metadata": {},
     "output_type": "execute_result"
    }
   ],
   "source": [
    "from scipy.optimize import minimize\n",
    "dx = np.arange(-10,10,1)\n",
    "\n",
    "best = minimize(misfit, x0=[0.1,0.1,0.1])\n",
    "best.x"
   ]
  },
  {
   "cell_type": "code",
   "execution_count": 7,
   "metadata": {},
   "outputs": [],
   "source": [
    "import random\n",
    "m1_v=np.zeros(100)\n",
    "m2_v=np.zeros(100)\n",
    "#par=[]\n",
    "for i in range(100):\n",
    "    w1 = random.uniform(0, 1)\n",
    "    w2 = 1-w1\n",
    "    x = [random.uniform(-pi, pi), random.uniform(-5, 5),random.uniform(-5, 5)]\n",
    "    best = minimize(misfit, x0 = x)\n",
    "    m1_v[i] = f1(best.x)\n",
    "    m2_v[i] = f2(best.x)\n",
    "    #par.append(best.x)\n",
    "    \n"
   ]
  },
  {
   "cell_type": "code",
   "execution_count": 9,
   "metadata": {},
   "outputs": [
    {
     "data": {
      "text/plain": [
       "array([-3.09873863, -3.0728583 ,  1.4184458 ,  1.92330283, -1.31613173,\n",
       "       -3.0867651 , -3.13835579, -2.12739515,  2.63962595, -2.78389193,\n",
       "       -0.88196424, -2.62902137, -2.94373585,  1.74192323,  1.67115577,\n",
       "        1.91465704,  2.42845916, -0.46095365, -0.4488975 ,  1.51466389,\n",
       "        2.09996713, -2.99161838, -1.12465946,  1.99489102,  3.13616595,\n",
       "        2.38085587, -1.09292528,  0.07521923,  2.18074939,  2.61521012,\n",
       "       -0.487719  ,  0.63566927,  1.73133926,  0.44235025, -2.60909097,\n",
       "        2.79169161, -0.95013074, -0.2558872 ,  3.06291572,  2.72693733,\n",
       "       -0.73401688,  1.143663  , -2.29169485, -2.17320511,  0.36756749,\n",
       "        0.09578457,  2.19496473, -1.44880429, -2.03808038, -2.72234954,\n",
       "       -0.98827007, -1.72765041, -2.8542872 ,  0.52346675,  2.05594508,\n",
       "        0.81159075,  1.11600957,  1.30101596, -0.21147262, -2.40580362,\n",
       "       -2.04424756, -2.42716415,  0.40673053, -2.59696899, -2.77946159,\n",
       "       -2.55162642, -1.23870781,  2.83454294,  0.68107598,  2.74647264,\n",
       "       -1.08064631,  2.39729641,  0.3132601 , -2.81191677, -0.55985791,\n",
       "       -2.06152543, -1.21994688, -2.73493225,  2.06045156, -2.98453646,\n",
       "        0.71799023, -3.05570461,  1.96433942, -1.00431397, -1.09388761,\n",
       "        0.36035351,  2.58263929, -0.26790655, -1.04481165,  0.51145363,\n",
       "        3.0343623 , -1.21351166,  0.77043985, -0.99090544, -0.39460277,\n",
       "        1.66970465,  0.6597088 , -1.7336384 , -1.40969407, -2.9930092 ])"
      ]
     },
     "execution_count": 9,
     "metadata": {},
     "output_type": "execute_result"
    }
   ],
   "source": []
  },
  {
   "cell_type": "code",
   "execution_count": 8,
   "metadata": {},
   "outputs": [
    {
     "data": {
      "image/png": "[encoded data removed]",
      "text/plain": [
       "<Figure size 432x288 with 1 Axes>"
      ]
     },
     "metadata": {
      "needs_background": "light"
     },
     "output_type": "display_data"
    }
   ],
   "source": [
    "import matplotlib.pyplot as plt\n",
    "plt.plot(m1_v,m2_v,'bo')\n",
    "plt.show()"
   ]
  }
 ],
 "metadata": {
  "kernelspec": {
   "display_name": "MachineLearning py36",
   "language": "python",
   "name": "machinelearning"
  },
  "language_info": {
   "codemirror_mode": {
    "name": "ipython",
    "version": 3
   },
   "file_extension": ".py",
   "mimetype": "text/x-python",
   "name": "python",
   "nbconvert_exporter": "python",
   "pygments_lexer": "ipython3",
   "version": "3.6.10"
  }
 },
 "nbformat": 4,
 "nbformat_minor": 4
}
