{
 "cells": [
  {
   "cell_type": "code",
   "execution_count": 110,
   "metadata": {},
   "outputs": [],
   "source": [
    "from math import pi\n",
    "import numpy as np\n",
    "\n",
    "\n",
    "def f1(x):\n",
    "    x1 = x[0]\n",
    "    if x1>pi or x1<-pi:\n",
    "        x1 = 1000000*abs(x1)\n",
    "    return x1\n",
    "\n",
    "def f2(x):\n",
    "    x1, x2, x3 = x[0], x[1], x[2] \n",
    "    if x1>pi or x1<-pi or x2>5 or x2<-5 or x3>5 or x3<-5:\n",
    "        return 100000*(1-(1/(1*pi*pi))*(abs(x[0])+pi)**2+abs(abs(x[1])-5*np.cos(abs(x[0])))**(1/3)+abs(abs(x[2])-5*np.sin(abs(x[0])))**(1/3))\n",
    "    else:\n",
    "        return 1-(1/(1*pi*pi))*(x[0]+pi)**2+abs(x[1]-5*np.cos(x[0]))**(1/3)+abs(x[2]-5*np.sin(x[0]))**(1/3)\n"
   ]
  },
  {
   "cell_type": "code",
   "execution_count": 111,
   "metadata": {},
   "outputs": [],
   "source": [
    "import random\n",
    "n = 140\n",
    "x1 = np.random.uniform(-pi, pi, n)\n",
    "x2 = np.random.uniform(-5, 5, n)\n",
    "x3 = np.random.uniform(-5, 5, n)"
   ]
  },
  {
   "cell_type": "code",
   "execution_count": 112,
   "metadata": {
    "scrolled": true
   },
   "outputs": [],
   "source": [
    "import pandas as pd\n",
    "x = pd.DataFrame({'x1': x1,\n",
    "                  'x2': x2,\n",
    "                  'x3': x3 })                     \n",
    "\n",
    "x[\"f1\"] = x.apply(f1,1)\n",
    "x[\"f2\"] = x.apply(f2,1)"
   ]
  },
  {
   "cell_type": "code",
   "execution_count": 113,
   "metadata": {
    "scrolled": true
   },
   "outputs": [],
   "source": [
    "best_bird1 = x[[\"f1\"]].idxmin()\n",
    "best_bird2 = x[[\"f2\"]].idxmin()"
   ]
  },
  {
   "cell_type": "code",
   "execution_count": 114,
   "metadata": {},
   "outputs": [],
   "source": [
    "for k in range(1000):\n",
    "    for i in range(n):\n",
    "        sigma_a = max(abs(x[\"x1\"][i].item()-x[\"x1\"][best_bird1].item()),abs(x[\"x1\"][i].item()-x[\"x1\"][best_bird2].item()))\n",
    "        sigma_b = max(abs(x[\"x2\"][i].item()-x[\"x2\"][best_bird1].item()),abs(x[\"x2\"][i].item()-x[\"x2\"][best_bird2].item()))\n",
    "        sigma_c = max(abs(x[\"x3\"][i].item()-x[\"x3\"][best_bird1].item()),abs(x[\"x3\"][i].item()-x[\"x3\"][best_bird2].item()))\n",
    "\n",
    "        test_a = np.random.normal( (x[\"x1\"][i].item()+x[\"x1\"][best_bird1].item()+x[\"x1\"][best_bird2].item())/3 , sigma_a)\n",
    "        test_b = np.random.normal( (x[\"x2\"][i].item()+x[\"x2\"][best_bird1].item()+x[\"x2\"][best_bird2].item())/3 , sigma_b)\n",
    "        test_c = np.random.normal( (x[\"x3\"][i].item()+x[\"x3\"][best_bird1].item()+x[\"x3\"][best_bird2].item())/3 , sigma_c)\n",
    "        \n",
    "        test_z1 = f1([test_a])\n",
    "        test_z2 = f2([test_a,test_b,test_c])\n",
    "        \n",
    "        if  test_z1 <= x[\"f1\"][i].item() and test_z2 <= x[\"f2\"][i].item() :\n",
    "            x[\"x1\"][i] = test_a\n",
    "            x[\"x2\"][i] = test_b\n",
    "            x[\"x3\"][i] = test_c\n",
    "            x[\"f1\"][i] = test_z1\n",
    "            x[\"f2\"][i] = test_z2\n",
    "            \n",
    "            \n",
    "    best_bird1 = x[[\"f1\"]].idxmin()\n",
    "    best_bird2 = x[[\"f2\"]].idxmin()\n",
    "\n",
    "    \n",
    "        \n",
    "        \n",
    "        "
   ]
  },
  {
   "cell_type": "code",
   "execution_count": 117,
   "metadata": {},
   "outputs": [
    {
     "data": {
      "image/png": "[encoded data removed]",
      "text/plain": [
       "<Figure size 432x288 with 1 Axes>"
      ]
     },
     "metadata": {
      "needs_background": "light"
     },
     "output_type": "display_data"
    }
   ],
   "source": [
    "import matplotlib.pyplot as plt\n",
    "\n",
    "plt.plot(x[\"f1\"],x[\"f2\"],\"bo\")\n",
    "plt.ylim([-2, 5])\n",
    "plt.show()"
   ]
  }
 ],
 "metadata": {
  "kernelspec": {
   "display_name": "MachineLearning py36",
   "language": "python",
   "name": "machinelearning"
  },
  "language_info": {
   "codemirror_mode": {
    "name": "ipython",
    "version": 3
   },
   "file_extension": ".py",
   "mimetype": "text/x-python",
   "name": "python",
   "nbconvert_exporter": "python",
   "pygments_lexer": "ipython3",
   "version": "3.6.10"
  }
 },
 "nbformat": 4,
 "nbformat_minor": 4
}
